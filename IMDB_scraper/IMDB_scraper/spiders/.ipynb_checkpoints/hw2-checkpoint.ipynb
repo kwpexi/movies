{
 "cells": [
  {
   "cell_type": "code",
   "execution_count": 2,
   "id": "2484335c",
   "metadata": {},
   "outputs": [],
   "source": [
    "import pandas as pd"
   ]
  },
  {
   "cell_type": "code",
   "execution_count": 3,
   "id": "06175295",
   "metadata": {},
   "outputs": [],
   "source": [
    "movies = pd.read_csv(\"test5.csv\")"
   ]
  },
  {
   "cell_type": "code",
   "execution_count": 4,
   "id": "3476c7c0",
   "metadata": {},
   "outputs": [
    {
     "data": {
      "text/html": [
       "<div>\n",
       "<style scoped>\n",
       "    .dataframe tbody tr th:only-of-type {\n",
       "        vertical-align: middle;\n",
       "    }\n",
       "\n",
       "    .dataframe tbody tr th {\n",
       "        vertical-align: top;\n",
       "    }\n",
       "\n",
       "    .dataframe thead th {\n",
       "        text-align: right;\n",
       "    }\n",
       "</style>\n",
       "<table border=\"1\" class=\"dataframe\">\n",
       "  <thead>\n",
       "    <tr style=\"text-align: right;\">\n",
       "      <th></th>\n",
       "      <th>actor</th>\n",
       "      <th>movie_or_TV_name</th>\n",
       "    </tr>\n",
       "  </thead>\n",
       "  <tbody>\n",
       "    <tr>\n",
       "      <th>0</th>\n",
       "      <td>Ryan Gosling</td>\n",
       "      <td>Project Hail Mary</td>\n",
       "    </tr>\n",
       "    <tr>\n",
       "      <th>1</th>\n",
       "      <td>Ryan Gosling</td>\n",
       "      <td>The Actor</td>\n",
       "    </tr>\n",
       "    <tr>\n",
       "      <th>2</th>\n",
       "      <td>Ryan Gosling</td>\n",
       "      <td>Wolfman</td>\n",
       "    </tr>\n",
       "    <tr>\n",
       "      <th>3</th>\n",
       "      <td>Ryan Gosling</td>\n",
       "      <td>Barbie</td>\n",
       "    </tr>\n",
       "    <tr>\n",
       "      <th>4</th>\n",
       "      <td>Ryan Gosling</td>\n",
       "      <td>The Gray Man</td>\n",
       "    </tr>\n",
       "    <tr>\n",
       "      <th>...</th>\n",
       "      <td>...</td>\n",
       "      <td>...</td>\n",
       "    </tr>\n",
       "    <tr>\n",
       "      <th>1918</th>\n",
       "      <td>Edward James Olmos</td>\n",
       "      <td>LA 92</td>\n",
       "    </tr>\n",
       "    <tr>\n",
       "      <th>1919</th>\n",
       "      <td>Edward James Olmos</td>\n",
       "      <td>Hispanic Youth Showcase 25th Anniversary</td>\n",
       "    </tr>\n",
       "    <tr>\n",
       "      <th>1920</th>\n",
       "      <td>Edward James Olmos</td>\n",
       "      <td>Blade Runner: Deleted and Alternate Scenes</td>\n",
       "    </tr>\n",
       "    <tr>\n",
       "      <th>1921</th>\n",
       "      <td>Edward James Olmos</td>\n",
       "      <td>Página 2</td>\n",
       "    </tr>\n",
       "    <tr>\n",
       "      <th>1922</th>\n",
       "      <td>Edward James Olmos</td>\n",
       "      <td>Battlestar Galactica: The Story So Far</td>\n",
       "    </tr>\n",
       "  </tbody>\n",
       "</table>\n",
       "<p>1923 rows × 2 columns</p>\n",
       "</div>"
      ],
      "text/plain": [
       "                   actor                            movie_or_TV_name\n",
       "0           Ryan Gosling                           Project Hail Mary\n",
       "1           Ryan Gosling                                   The Actor\n",
       "2           Ryan Gosling                                     Wolfman\n",
       "3           Ryan Gosling                                      Barbie\n",
       "4           Ryan Gosling                                The Gray Man\n",
       "...                  ...                                         ...\n",
       "1918  Edward James Olmos                                       LA 92\n",
       "1919  Edward James Olmos    Hispanic Youth Showcase 25th Anniversary\n",
       "1920  Edward James Olmos  Blade Runner: Deleted and Alternate Scenes\n",
       "1921  Edward James Olmos                                    Página 2\n",
       "1922  Edward James Olmos      Battlestar Galactica: The Story So Far\n",
       "\n",
       "[1923 rows x 2 columns]"
      ]
     },
     "execution_count": 4,
     "metadata": {},
     "output_type": "execute_result"
    }
   ],
   "source": [
    "movies"
   ]
  },
  {
   "cell_type": "code",
   "execution_count": null,
   "id": "8bc68e87",
   "metadata": {},
   "outputs": [],
   "source": [
    "movies.sort"
   ]
  }
 ],
 "metadata": {
  "kernelspec": {
   "display_name": "Python [conda env:PIC16B] *",
   "language": "python",
   "name": "conda-env-PIC16B-py"
  },
  "language_info": {
   "codemirror_mode": {
    "name": "ipython",
    "version": 3
   },
   "file_extension": ".py",
   "mimetype": "text/x-python",
   "name": "python",
   "nbconvert_exporter": "python",
   "pygments_lexer": "ipython3",
   "version": "3.7.13"
  }
 },
 "nbformat": 4,
 "nbformat_minor": 5
}
